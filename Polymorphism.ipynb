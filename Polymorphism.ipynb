{
 "cells": [
  {
   "cell_type": "code",
   "execution_count": 1,
   "id": "ce8c3ea5-b495-4d22-a3d9-e5fac9abe71a",
   "metadata": {},
   "outputs": [],
   "source": [
    "def test(a,b):\n",
    "    return a+b"
   ]
  },
  {
   "cell_type": "code",
   "execution_count": 2,
   "id": "bf3a9ebf-8d0a-4b5d-8140-4be1479829d2",
   "metadata": {},
   "outputs": [
    {
     "data": {
      "text/plain": [
       "7"
      ]
     },
     "execution_count": 2,
     "metadata": {},
     "output_type": "execute_result"
    }
   ],
   "source": [
    "test(3,4)"
   ]
  },
  {
   "cell_type": "code",
   "execution_count": 4,
   "id": "1806af7e-0039-4dc4-b97e-77f09ebf0748",
   "metadata": {},
   "outputs": [
    {
     "data": {
      "text/plain": [
       "'nilesh kumar'"
      ]
     },
     "execution_count": 4,
     "metadata": {},
     "output_type": "execute_result"
    }
   ],
   "source": [
    "test(\"nilesh \", \"kumar\")"
   ]
  },
  {
   "cell_type": "code",
   "execution_count": 5,
   "id": "7a3e6f27-6b5d-4c57-948b-4b6983ca6db4",
   "metadata": {},
   "outputs": [
    {
     "data": {
      "text/plain": [
       "[3, 4, 5, 6, 34, 45, 67]"
      ]
     },
     "execution_count": 5,
     "metadata": {},
     "output_type": "execute_result"
    }
   ],
   "source": [
    "test([3,4,5,6], [34,45,67])"
   ]
  },
  {
   "cell_type": "code",
   "execution_count": 6,
   "id": "fdc32717-341d-4e2f-acc1-87031dae6e60",
   "metadata": {},
   "outputs": [],
   "source": [
    "class data_science :\n",
    "    def syllabus(self):\n",
    "        print(\"this is my syllabus for data sicence\")"
   ]
  },
  {
   "cell_type": "code",
   "execution_count": 7,
   "id": "e418abc0-9c6e-4450-aeb6-fb9d646a2a0a",
   "metadata": {},
   "outputs": [],
   "source": [
    "class web_dev:\n",
    "    \n",
    "    def syllabus(self):\n",
    "        print(\"this is my syllabus for web dev\")"
   ]
  },
  {
   "cell_type": "code",
   "execution_count": 8,
   "id": "dd7f2ada-548c-45b4-bb9b-36b2562d0b78",
   "metadata": {},
   "outputs": [],
   "source": [
    "def class_parcer(class_obj):\n",
    "    for i in class_obj:\n",
    "        i.syllabus()"
   ]
  },
  {
   "cell_type": "code",
   "execution_count": 9,
   "id": "29731e75-c041-4419-abed-e7ad3477133a",
   "metadata": {},
   "outputs": [],
   "source": [
    "data_science = data_science()"
   ]
  },
  {
   "cell_type": "code",
   "execution_count": 10,
   "id": "5db1515e-adca-46f3-b4dd-ad6f6def834b",
   "metadata": {},
   "outputs": [],
   "source": [
    "web_dev = web_dev()"
   ]
  },
  {
   "cell_type": "code",
   "execution_count": 11,
   "id": "9d604aac-ff7a-415b-82b0-7bee8172c062",
   "metadata": {},
   "outputs": [],
   "source": [
    "class_obj = [data_science, web_dev]"
   ]
  },
  {
   "cell_type": "code",
   "execution_count": 12,
   "id": "4073b3c2-44fd-4bff-99a4-f90a37bf0af2",
   "metadata": {},
   "outputs": [
    {
     "name": "stdout",
     "output_type": "stream",
     "text": [
      "this is my syllabus for data sicence\n",
      "this is my syllabus for web dev\n"
     ]
    }
   ],
   "source": [
    "class_parcer(class_obj)"
   ]
  },
  {
   "cell_type": "code",
   "execution_count": null,
   "id": "11a79f5a-e3be-4f72-be01-56fa3a8e57f7",
   "metadata": {},
   "outputs": [],
   "source": []
  }
 ],
 "metadata": {
  "kernelspec": {
   "display_name": "Python 3 (ipykernel)",
   "language": "python",
   "name": "python3"
  },
  "language_info": {
   "codemirror_mode": {
    "name": "ipython",
    "version": 3
   },
   "file_extension": ".py",
   "mimetype": "text/x-python",
   "name": "python",
   "nbconvert_exporter": "python",
   "pygments_lexer": "ipython3",
   "version": "3.10.8"
  }
 },
 "nbformat": 4,
 "nbformat_minor": 5
}
